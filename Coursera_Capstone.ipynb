{
  "nbformat": 4,
  "nbformat_minor": 0,
  "metadata": {
    "colab": {
      "name": "Coursera_Capstone.ipynb",
      "provenance": []
    },
    "kernelspec": {
      "name": "python3",
      "display_name": "Python 3"
    }
  },
  "cells": [
    {
      "cell_type": "markdown",
      "metadata": {
        "id": "nsUDargZujhC",
        "colab_type": "text"
      },
      "source": [
        "This Is For Coursera Capstone Project"
      ]
    },
    {
      "cell_type": "code",
      "metadata": {
        "id": "yPT_XF_8uepO",
        "colab_type": "code",
        "colab": {
          "base_uri": "https://localhost:8080/",
          "height": 34
        },
        "outputId": "2030d735-f6ce-4358-f5cb-c607e6c6a3e4"
      },
      "source": [
        "import pandas as pd\n",
        "import numpy as np\n",
        "print(\"This Is Capstone projects\")"
      ],
      "execution_count": 2,
      "outputs": [
        {
          "output_type": "stream",
          "text": [
            "This Is Capstone projects\n"
          ],
          "name": "stdout"
        }
      ]
    },
    {
      "cell_type": "code",
      "metadata": {
        "id": "ZgIQJdhpuxeU",
        "colab_type": "code",
        "colab": {}
      },
      "source": [
        ""
      ],
      "execution_count": 0,
      "outputs": []
    }
  ]
}